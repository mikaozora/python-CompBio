{
 "cells": [
  {
   "cell_type": "code",
   "execution_count": 2,
   "metadata": {},
   "outputs": [
    {
     "data": {
      "application/3dmoljs_load.v0": "<div id=\"3dmolviewer_1700211786034305\"  style=\"position: relative; width: 640px; height: 480px\">\n        <p id=\"3dmolwarning_1700211786034305\" style=\"background-color:#ffcccc;color:black\">You appear to be running in JupyterLab (or JavaScript failed to load for some other reason).  You need to install the 3dmol extension: <br>\n        <tt>jupyter labextension install jupyterlab_3dmol</tt></p>\n        </div>\n<script>\n\nvar loadScriptAsync = function(uri){\n  return new Promise((resolve, reject) => {\n    //this is to ignore the existence of requirejs amd\n    var savedexports, savedmodule;\n    if (typeof exports !== 'undefined') savedexports = exports;\n    else exports = {}\n    if (typeof module !== 'undefined') savedmodule = module;\n    else module = {}\n\n    var tag = document.createElement('script');\n    tag.src = uri;\n    tag.async = true;\n    tag.onload = () => {\n        exports = savedexports;\n        module = savedmodule;\n        resolve();\n    };\n  var firstScriptTag = document.getElementsByTagName('script')[0];\n  firstScriptTag.parentNode.insertBefore(tag, firstScriptTag);\n});\n};\n\nif(typeof $3Dmolpromise === 'undefined') {\n$3Dmolpromise = null;\n  $3Dmolpromise = loadScriptAsync('https://cdnjs.cloudflare.com/ajax/libs/3Dmol/2.0.1/3Dmol-min.js');\n}\n\nvar viewer_1700211786034305 = null;\nvar warn = document.getElementById(\"3dmolwarning_1700211786034305\");\nif(warn) {\n    warn.parentNode.removeChild(warn);\n}\n$3Dmolpromise.then(function() {\nviewer_1700211786034305 = $3Dmol.createViewer(document.getElementById(\"3dmolviewer_1700211786034305\"),{backgroundColor:\"white\"});\n$3Dmol.download(\"pdb:8TGE\", viewer_1700211786034305, {}, function() {\nviewer_1700211786034305.zoomTo();\n\tviewer_1700211786034305.setStyle({\"cartoon\": {\"color\": \"spectrum\"}});\nviewer_1700211786034305.render();\n})\n});\n</script>",
      "text/html": [
       "<div id=\"3dmolviewer_1700211786034305\"  style=\"position: relative; width: 640px; height: 480px\">\n",
       "        <p id=\"3dmolwarning_1700211786034305\" style=\"background-color:#ffcccc;color:black\">You appear to be running in JupyterLab (or JavaScript failed to load for some other reason).  You need to install the 3dmol extension: <br>\n",
       "        <tt>jupyter labextension install jupyterlab_3dmol</tt></p>\n",
       "        </div>\n",
       "<script>\n",
       "\n",
       "var loadScriptAsync = function(uri){\n",
       "  return new Promise((resolve, reject) => {\n",
       "    //this is to ignore the existence of requirejs amd\n",
       "    var savedexports, savedmodule;\n",
       "    if (typeof exports !== 'undefined') savedexports = exports;\n",
       "    else exports = {}\n",
       "    if (typeof module !== 'undefined') savedmodule = module;\n",
       "    else module = {}\n",
       "\n",
       "    var tag = document.createElement('script');\n",
       "    tag.src = uri;\n",
       "    tag.async = true;\n",
       "    tag.onload = () => {\n",
       "        exports = savedexports;\n",
       "        module = savedmodule;\n",
       "        resolve();\n",
       "    };\n",
       "  var firstScriptTag = document.getElementsByTagName('script')[0];\n",
       "  firstScriptTag.parentNode.insertBefore(tag, firstScriptTag);\n",
       "});\n",
       "};\n",
       "\n",
       "if(typeof $3Dmolpromise === 'undefined') {\n",
       "$3Dmolpromise = null;\n",
       "  $3Dmolpromise = loadScriptAsync('https://cdnjs.cloudflare.com/ajax/libs/3Dmol/2.0.1/3Dmol-min.js');\n",
       "}\n",
       "\n",
       "var viewer_1700211786034305 = null;\n",
       "var warn = document.getElementById(\"3dmolwarning_1700211786034305\");\n",
       "if(warn) {\n",
       "    warn.parentNode.removeChild(warn);\n",
       "}\n",
       "$3Dmolpromise.then(function() {\n",
       "viewer_1700211786034305 = $3Dmol.createViewer(document.getElementById(\"3dmolviewer_1700211786034305\"),{backgroundColor:\"white\"});\n",
       "$3Dmol.download(\"pdb:8TGE\", viewer_1700211786034305, {}, function() {\n",
       "viewer_1700211786034305.zoomTo();\n",
       "\tviewer_1700211786034305.setStyle({\"cartoon\": {\"color\": \"spectrum\"}});\n",
       "viewer_1700211786034305.render();\n",
       "})\n",
       "});\n",
       "</script>"
      ]
     },
     "metadata": {},
     "output_type": "display_data"
    },
    {
     "data": {
      "text/plain": [
       "<py3Dmol.view at 0x1a01d433588>"
      ]
     },
     "execution_count": 2,
     "metadata": {},
     "output_type": "execute_result"
    }
   ],
   "source": [
    "from py3Dmol import view\n",
    "view(query='pdb:8TGE').setStyle({'cartoon':{'color':'spectrum'}})"
   ]
  },
  {
   "cell_type": "code",
   "execution_count": 9,
   "metadata": {},
   "outputs": [
    {
     "name": "stdout",
     "output_type": "stream",
     "text": [
      "CGATGATCTACTGCTATC\n",
      "Counter({'C': 3, 'T': 3, 'A': 2, 'G': 1})\n"
     ]
    },
    {
     "data": {
      "text/plain": [
       "<BarContainer object of 4 artists>"
      ]
     },
     "execution_count": 9,
     "metadata": {},
     "output_type": "execute_result"
    },
    {
     "data": {
      "image/png": "[encoded data removed]",
      "text/plain": [
       "<Figure size 640x480 with 1 Axes>"
      ]
     },
     "metadata": {},
     "output_type": "display_data"
    }
   ],
   "source": [
    "# string manipulation\n",
    "\n",
    "from Bio.Seq import Seq\n",
    "from Bio.SeqUtils import nt_search\n",
    "from collections import Counter\n",
    "from matplotlib import pyplot as plt\n",
    "\n",
    "kepala = Seq(\"CGATCTATC\")\n",
    "kaki = Seq(\"GATCTACTG\")\n",
    "kaki_kepala = kepala[0:4] + kaki + kepala[4:]\n",
    "print(kaki_kepala)\n",
    "\n",
    "nt_search(str(kepala), \"A\")\n",
    "\n",
    "resCounter = Counter(kepala)\n",
    "print(resCounter)\n",
    "\n",
    "plt.bar(resCounter.keys(), resCounter.values())"
   ]
  }
 ],
 "metadata": {
  "kernelspec": {
   "display_name": "CompBio",
   "language": "python",
   "name": "python3"
  },
  "language_info": {
   "codemirror_mode": {
    "name": "ipython",
    "version": 3
   },
   "file_extension": ".py",
   "mimetype": "text/x-python",
   "name": "python",
   "nbconvert_exporter": "python",
   "pygments_lexer": "ipython3",
   "version": "3.7.6"
  }
 },
 "nbformat": 4,
 "nbformat_minor": 2
}
