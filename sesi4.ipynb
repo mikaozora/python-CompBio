{
 "cells": [
  {
   "cell_type": "code",
   "execution_count": null,
   "metadata": {},
   "outputs": [],
   "source": [
    "#alignment\n",
    "# -> global dan local\n",
    "\n",
    "#similiarity\n",
    "# -> levenshtein and hamming"
   ]
  },
  {
   "cell_type": "code",
   "execution_count": 1,
   "metadata": {},
   "outputs": [],
   "source": [
    "from Bio import pairwise2\n",
    "from Bio.pairwise2 import format_alignment\n",
    "from Bio.Seq import Seq"
   ]
  },
  {
   "cell_type": "code",
   "execution_count": 23,
   "metadata": {},
   "outputs": [
    {
     "name": "stdout",
     "output_type": "stream",
     "text": [
      "31.0\n"
     ]
    }
   ],
   "source": [
    "seqA = Seq('AGCTAGATCGATCGAACTAGCTAGCTACGATCGAT')\n",
    "seqB = Seq('GCATAAGCTAGCGCGCTAGCGATCGAAT')\n",
    "\n",
    "# global_align = pairwise2.align.globalxx(seqA, seqB) #klo mau score doang tambah arg score_only=True\n",
    "# global_align = pairwise2.align.globalmx(seqA, seqB, 2, -1) #match, miss\n",
    "# global_align = pairwise2.align.globalms(seqA, seqB, 2, -1, -2, -1) #match, miss, open-gap, extend-gap\n",
    "# print(format_alignment(*global_align[0]))\n",
    "\n",
    "# local_align = pairwise2.align.localxx(seqA, seqB)\n",
    "local_align = pairwise2.align.localms(seqA, seqB, 2, -1, -2, -1, score_only=True)\n",
    "\n",
    "print(local_align)\n",
    "# print(format_alignment(*local_align[0]))"
   ]
  },
  {
   "cell_type": "markdown",
   "metadata": {},
   "source": []
  },
  {
   "cell_type": "code",
   "execution_count": 9,
   "metadata": {},
   "outputs": [
    {
     "data": {
      "text/plain": [
       "4"
      ]
     },
     "execution_count": 9,
     "metadata": {},
     "output_type": "execute_result"
    }
   ],
   "source": [
    "def hamming(seq1, seq2):\n",
    "    return len([(x,y) for x,y in zip(seq1, seq2) if x != y])\n",
    "\n",
    "seqHamA = Seq('ACCCC')\n",
    "seqHamB = Seq('AGGGG')\n",
    "\n",
    "hamming(seqHamA, seqHamB)"
   ]
  },
  {
   "cell_type": "code",
   "execution_count": 10,
   "metadata": {},
   "outputs": [
    {
     "data": {
      "text/plain": [
       "9"
      ]
     },
     "execution_count": 10,
     "metadata": {},
     "output_type": "execute_result"
    }
   ],
   "source": [
    "from Levenshtein import distance\n",
    "\n",
    "seqLevA = Seq('ACGATCGGATCGATCGAGAGATCGAGATCGAT')\n",
    "seqLevB = Seq('CGATCGATCGAGATCGAGATCGAGCTAGATC')\n",
    "\n",
    "distance(seqLevA, seqLevB)"
   ]
  },
  {
   "cell_type": "code",
   "execution_count": 19,
   "metadata": {},
   "outputs": [
    {
     "data": {
      "image/png": "[encoded data removed]",
      "text/plain": [
       "<Figure size 640x480 with 1 Axes>"
      ]
     },
     "metadata": {},
     "output_type": "display_data"
    }
   ],
   "source": [
    "def diff(x, y):\n",
    "    return 0 if x == y else 1\n",
    "\n",
    "def M(seq1, seq2, i, j, k):\n",
    "    return sum(diff(x, y) for x, y in zip(seq1[i:i+k], seq2[j:j+k]))\n",
    "\n",
    "def makeMatrix(seq1, seq2, k):\n",
    "    n = len(seq1)\n",
    "    m = len(seq2)\n",
    "    return [[M(seq1, seq2, i, j, k) for j in range(m-k+1)] for i in range(n-k+1)]\n",
    "\n",
    "def plot(M, t, seq1, seq2, nonBlank = chr(0x25A0), blank=' '):\n",
    "    print(\" |\", seq2)\n",
    "    print('-'*(2+len(seq2)))\n",
    "\n",
    "    for label, row in zip(seq1, M):\n",
    "        line = ''.join(nonBlank if s < t else blank for s in row)\n",
    "        print(label + \"|\" + line)\n",
    "\n",
    "def dotplot(seq1, seq2, k=1, t=1):\n",
    "    M = makeMatrix(seq1, seq2, k)\n",
    "    plot(M, t, seq1, seq2)\n",
    "\n",
    "seqDotA = Seq(\"ACGTAGCTAGCTAGGCTAGCT\")\n",
    "seqDotB = Seq(\"ACGTAGCTAGCTAGGCTAGCT\")\n",
    "\n",
    "\n",
    "import matplotlib.pyplot as plt\n",
    "import numpy as np\n",
    "\n",
    "def dotPlotFancy(seq1, seq2):\n",
    "    plt.imshow(np.array(makeMatrix(seq1, seq2, 1)))\n",
    "    xt = plt.xticks(np.arange(len(list(seq2))), list(seq2))\n",
    "    yt = plt.yticks(np.arange(len(list(seq1))), list(seq1))\n",
    "\n",
    "    plt.show()\n",
    "\n",
    "dotPlotFancy(seqDotA, seqDotB)\n",
    "# dotplot(seqDotA, seqDotB)"
   ]
  }
 ],
 "metadata": {
  "kernelspec": {
   "display_name": "CompBio",
   "language": "python",
   "name": "python3"
  },
  "language_info": {
   "codemirror_mode": {
    "name": "ipython",
    "version": 3
   },
   "file_extension": ".py",
   "mimetype": "text/x-python",
   "name": "python",
   "nbconvert_exporter": "python",
   "pygments_lexer": "ipython3",
   "version": "3.7.6"
  }
 },
 "nbformat": 4,
 "nbformat_minor": 2
}
