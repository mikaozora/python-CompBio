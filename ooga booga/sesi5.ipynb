{
 "cells": [
  {
   "cell_type": "code",
   "execution_count": 2,
   "metadata": {},
   "outputs": [],
   "source": [
    "from Bio import Entrez"
   ]
  },
  {
   "cell_type": "code",
   "execution_count": 5,
   "metadata": {},
   "outputs": [
    {
     "name": "stdout",
     "output_type": "stream",
     "text": [
      "{'Database': 'pmc', 'Query': 'biopython', 'CorrectedQuery': '', 'SpelledQuery': []}\n",
      "Database :  pmc\n",
      "Query :  biopython\n",
      "CorrectedQuery :  \n",
      "SpelledQuery :  []\n"
     ]
    }
   ],
   "source": [
    "Entrez.email = 'learncompbio@gmail.com'\n",
    "\n",
    "record = Entrez.read(Entrez.espell(db='pmc', term='biopython'))\n",
    "print(record)\n",
    "\n",
    "for key in record.keys():\n",
    "    print(key, \": \", record[key])"
   ]
  },
  {
   "cell_type": "code",
   "execution_count": 13,
   "metadata": {},
   "outputs": [
    {
     "name": "stdout",
     "output_type": "stream",
     "text": [
      "title: The Site/Group Extended Data Format and Tools, full journal name: Genome Biology and Evolution\n",
      "title: Identification of Microorganisms that Bind Specifically to Target Materials of Interest Using a Magnetophoretic Microfluidic Platform, full journal name: ACS Applied Materials & Interfaces\n",
      "title: Analysis of SARS-CoV-2 genome evolutionary patterns, full journal name: Microbiology Spectrum\n",
      "title: Single-haplotype comparative genomics provide insights into lineage-specific structural variation during cat evolution, full journal name: Nature genetics\n",
      "title: Whole genome sequencing and genotyping Klebsiella pneumoniae multi-drug resistant hospital isolates from Western Kenya, full journal name: Access Microbiology\n"
     ]
    }
   ],
   "source": [
    "record = Entrez.read(Entrez.esearch(db='pmc', term='biopython', retmax=100))\n",
    "\n",
    "ids = record['IdList']\n",
    "\n",
    "# for key in record.keys():\n",
    "#     print(key, ':', record[key])\n",
    "\n",
    "for id in ids[:5]:\n",
    "    result = Entrez.read(Entrez.esummary(db='pmc', id=id))\n",
    "    for detail in result:\n",
    "        print(\"title: {}, full journal name: {}\".format(detail['Title'], detail['FullJournalName']))"
   ]
  },
  {
   "cell_type": "code",
   "execution_count": 27,
   "metadata": {},
   "outputs": [
    {
     "name": "stdout",
     "output_type": "stream",
     "text": [
      ">NG_009846.2 Homo sapiens OCA2 melanosomal transmembrane protein (OCA2), RefSeqGene on chromosome 15\n",
      "\n",
      ">NM_001300984.2 Homo sapiens OCA2 melanosomal transmembrane protein (OCA2), transcript variant 2, mRNA\n",
      "\n",
      ">NM_025003.5 Homo sapiens ADAM metallopeptidase with thrombospondin type 1 motif 20 (ADAMTS20), mRNA\n",
      "\n",
      ">NM_000372.5 Homo sapiens tyrosinase (TYR), mRNA\n",
      "\n",
      ">NM_000195.5 Homo sapiens HPS1 biogenesis of lysosomal organelles complex 3 subunit 1 (HPS1), transcript variant 1, mRNA\n",
      "\n",
      ">NM_000275.3 Homo sapiens OCA2 melanosomal transmembrane protein (OCA2), transcript variant 1, mRNA\n",
      "\n",
      ">NM_001322490.2 Homo sapiens HPS1 biogenesis of lysosomal organelles complex 3 subunit 1 (HPS1), transcript variant 18, mRNA\n",
      "\n",
      ">NM_001322482.2 Homo sapiens HPS1 biogenesis of lysosomal organelles complex 3 subunit 1 (HPS1), transcript variant 12, mRNA\n",
      "\n",
      ">NM_001322491.2 Homo sapiens HPS1 biogenesis of lysosomal organelles complex 3 subunit 1 (HPS1), transcript variant 19, mRNA\n",
      "\n",
      ">NM_001322492.2 Homo sapiens HPS1 biogenesis of lysosomal organelles complex 3 subunit 1 (HPS1), transcript variant 20, mRNA\n",
      "\n",
      ">NM_001322483.2 Homo sapiens HPS1 biogenesis of lysosomal organelles complex 3 subunit 1 (HPS1), transcript variant 13, mRNA\n",
      "\n",
      ">NM_001322476.2 Homo sapiens HPS1 biogenesis of lysosomal organelles complex 3 subunit 1 (HPS1), transcript variant 6, mRNA\n",
      "\n",
      ">NM_001322477.2 Homo sapiens HPS1 biogenesis of lysosomal organelles complex 3 subunit 1 (HPS1), transcript variant 7, mRNA\n",
      "\n",
      ">NM_001322481.2 Homo sapiens HPS1 biogenesis of lysosomal organelles complex 3 subunit 1 (HPS1), transcript variant 11, mRNA\n",
      "\n",
      ">NM_001322485.2 Homo sapiens HPS1 biogenesis of lysosomal organelles complex 3 subunit 1 (HPS1), transcript variant 15, mRNA\n",
      "\n",
      ">NM_001322478.2 Homo sapiens HPS1 biogenesis of lysosomal organelles complex 3 subunit 1 (HPS1), transcript variant 8, mRNA\n",
      "\n",
      ">NM_001311345.2 Homo sapiens HPS1 biogenesis of lysosomal organelles complex 3 subunit 1 (HPS1), transcript variant 5, mRNA\n",
      "\n",
      ">NM_001322479.2 Homo sapiens HPS1 biogenesis of lysosomal organelles complex 3 subunit 1 (HPS1), transcript variant 9, mRNA\n",
      "\n",
      ">NM_001322489.2 Homo sapiens HPS1 biogenesis of lysosomal organelles complex 3 subunit 1 (HPS1), transcript variant 17, mRNA\n",
      "\n",
      ">NM_182639.4 Homo sapiens HPS1 biogenesis of lysosomal organelles complex 3 subunit 1 (HPS1), transcript variant 3, mRNA\n",
      "\n",
      ">NM_001322484.2 Homo sapiens HPS1 biogenesis of lysosomal organelles complex 3 subunit 1 (HPS1), transcript variant 14, mRNA\n",
      "\n",
      ">NM_001322487.2 Homo sapiens HPS1 biogenesis of lysosomal organelles complex 3 subunit 1 (HPS1), transcript variant 16, mRNA\n",
      "\n",
      ">NM_001322480.2 Homo sapiens HPS1 biogenesis of lysosomal organelles complex 3 subunit 1 (HPS1), transcript variant 10, mRNA\n",
      "\n",
      ">NC_000015.10 Homo sapiens chromosome 15, GRCh38.p14 Primary Assembly\n",
      "\n",
      ">NT_187660.1 Homo sapiens chromosome 15 genomic scaffold, GRCh38.p14 alternate locus group ALT_REF_LOCI_2 HSCHR15_4_CTG8\n",
      "\n",
      ">NC_060939.1 Homo sapiens isolate CHM13 chromosome 15, alternate assembly T2T-CHM13v2.0\n",
      "\n",
      ">NW_011332701.1 Homo sapiens chromosome 15 genomic patch of type FIX, GRCh38.p14 PATCHES HG2139_PATCH\n",
      "\n",
      ">XR_008488954.1 PREDICTED: Homo sapiens OCA2 melanosomal transmembrane protein (OCA2), transcript variant X28, misc_RNA\n",
      "\n",
      ">XM_054378103.1 PREDICTED: Homo sapiens OCA2 melanosomal transmembrane protein (OCA2), transcript variant X31, mRNA\n",
      "\n",
      ">XM_054378102.1 PREDICTED: Homo sapiens OCA2 melanosomal transmembrane protein (OCA2), transcript variant X27, mRNA\n",
      "\n",
      ">XM_054378101.1 PREDICTED: Homo sapiens OCA2 melanosomal transmembrane protein (OCA2), transcript variant X26, mRNA\n",
      "\n",
      ">XM_054378100.1 PREDICTED: Homo sapiens OCA2 melanosomal transmembrane protein (OCA2), transcript variant X25, mRNA\n",
      "\n",
      ">XM_054378099.1 PREDICTED: Homo sapiens OCA2 melanosomal transmembrane protein (OCA2), transcript variant X24, mRNA\n",
      "\n",
      ">XM_054378098.1 PREDICTED: Homo sapiens OCA2 melanosomal transmembrane protein (OCA2), transcript variant X23, mRNA\n",
      "\n",
      ">XM_054378097.1 PREDICTED: Homo sapiens OCA2 melanosomal transmembrane protein (OCA2), transcript variant X22, mRNA\n",
      "\n",
      ">XM_054378096.1 PREDICTED: Homo sapiens OCA2 melanosomal transmembrane protein (OCA2), transcript variant X21, mRNA\n",
      "\n",
      ">XM_054378095.1 PREDICTED: Homo sapiens OCA2 melanosomal transmembrane protein (OCA2), transcript variant X20, mRNA\n",
      "\n",
      ">XM_054378094.1 PREDICTED: Homo sapiens OCA2 melanosomal transmembrane protein (OCA2), transcript variant X19, mRNA\n",
      "\n",
      ">XM_054378093.1 PREDICTED: Homo sapiens OCA2 melanosomal transmembrane protein (OCA2), transcript variant X18, mRNA\n",
      "\n",
      ">XM_054378092.1 PREDICTED: Homo sapiens OCA2 melanosomal transmembrane protein (OCA2), transcript variant X17, mRNA\n",
      "\n",
      ">XM_054378091.1 PREDICTED: Homo sapiens OCA2 melanosomal transmembrane protein (OCA2), transcript variant X16, mRNA\n",
      "\n"
     ]
    },
    {
     "ename": "HTTPError",
     "evalue": "HTTP Error 429: Too Many Requests",
     "output_type": "error",
     "traceback": [
      "\u001b[1;31m---------------------------------------------------------------------------\u001b[0m",
      "\u001b[1;31mHTTPError\u001b[0m                                 Traceback (most recent call last)",
      "\u001b[1;32m~\\AppData\\Local\\Temp\\ipykernel_3992\\3589880178.py\u001b[0m in \u001b[0;36m<module>\u001b[1;34m\u001b[0m\n\u001b[0;32m      4\u001b[0m \u001b[1;33m\u001b[0m\u001b[0m\n\u001b[0;32m      5\u001b[0m \u001b[1;32mfor\u001b[0m \u001b[0mid\u001b[0m \u001b[1;32min\u001b[0m \u001b[0mids\u001b[0m\u001b[1;33m:\u001b[0m\u001b[1;33m\u001b[0m\u001b[1;33m\u001b[0m\u001b[0m\n\u001b[1;32m----> 6\u001b[1;33m     \u001b[0mfetch\u001b[0m \u001b[1;33m=\u001b[0m \u001b[0mEntrez\u001b[0m\u001b[1;33m.\u001b[0m\u001b[0mefetch\u001b[0m\u001b[1;33m(\u001b[0m\u001b[0mdb\u001b[0m\u001b[1;33m=\u001b[0m\u001b[1;34m'nucleotide'\u001b[0m\u001b[1;33m,\u001b[0m \u001b[0mid\u001b[0m\u001b[1;33m=\u001b[0m\u001b[0mid\u001b[0m\u001b[1;33m,\u001b[0m \u001b[0mrettype\u001b[0m\u001b[1;33m=\u001b[0m\u001b[1;34m'fasta'\u001b[0m\u001b[1;33m,\u001b[0m \u001b[0mretmode\u001b[0m\u001b[1;33m=\u001b[0m\u001b[1;34m'text'\u001b[0m\u001b[1;33m)\u001b[0m\u001b[1;33m\u001b[0m\u001b[1;33m\u001b[0m\u001b[0m\n\u001b[0m\u001b[0;32m      7\u001b[0m     \u001b[0mprint\u001b[0m\u001b[1;33m(\u001b[0m\u001b[0mfetch\u001b[0m\u001b[1;33m.\u001b[0m\u001b[0mreadline\u001b[0m\u001b[1;33m(\u001b[0m\u001b[1;33m)\u001b[0m\u001b[1;33m)\u001b[0m\u001b[1;33m\u001b[0m\u001b[1;33m\u001b[0m\u001b[0m\n",
      "\u001b[1;32mc:\\ProgramData\\anaconda3\\envs\\CompBio\\lib\\site-packages\\Bio\\Entrez\\__init__.py\u001b[0m in \u001b[0;36mefetch\u001b[1;34m(db, **keywords)\u001b[0m\n\u001b[0;32m    205\u001b[0m             \u001b[1;31m# more than about 200 IDs\u001b[0m\u001b[1;33m\u001b[0m\u001b[1;33m\u001b[0m\u001b[1;33m\u001b[0m\u001b[0m\n\u001b[0;32m    206\u001b[0m             \u001b[0mpost\u001b[0m \u001b[1;33m=\u001b[0m \u001b[1;32mTrue\u001b[0m\u001b[1;33m\u001b[0m\u001b[1;33m\u001b[0m\u001b[0m\n\u001b[1;32m--> 207\u001b[1;33m     \u001b[1;32mreturn\u001b[0m \u001b[0m_open\u001b[0m\u001b[1;33m(\u001b[0m\u001b[0mcgi\u001b[0m\u001b[1;33m,\u001b[0m \u001b[0mvariables\u001b[0m\u001b[1;33m,\u001b[0m \u001b[0mpost\u001b[0m\u001b[1;33m=\u001b[0m\u001b[0mpost\u001b[0m\u001b[1;33m)\u001b[0m\u001b[1;33m\u001b[0m\u001b[1;33m\u001b[0m\u001b[0m\n\u001b[0m\u001b[0;32m    208\u001b[0m \u001b[1;33m\u001b[0m\u001b[0m\n\u001b[0;32m    209\u001b[0m \u001b[1;33m\u001b[0m\u001b[0m\n",
      "\u001b[1;32mc:\\ProgramData\\anaconda3\\envs\\CompBio\\lib\\site-packages\\Bio\\Entrez\\__init__.py\u001b[0m in \u001b[0;36m_open\u001b[1;34m(cgi, params, post, ecitmatch)\u001b[0m\n\u001b[0;32m    604\u001b[0m                 \u001b[0mhandle\u001b[0m \u001b[1;33m=\u001b[0m \u001b[0murlopen\u001b[0m\u001b[1;33m(\u001b[0m\u001b[0mcgi\u001b[0m\u001b[1;33m,\u001b[0m \u001b[0mdata\u001b[0m\u001b[1;33m=\u001b[0m\u001b[0moptions\u001b[0m\u001b[1;33m.\u001b[0m\u001b[0mencode\u001b[0m\u001b[1;33m(\u001b[0m\u001b[1;34m\"utf8\"\u001b[0m\u001b[1;33m)\u001b[0m\u001b[1;33m)\u001b[0m\u001b[1;33m\u001b[0m\u001b[1;33m\u001b[0m\u001b[0m\n\u001b[0;32m    605\u001b[0m             \u001b[1;32melse\u001b[0m\u001b[1;33m:\u001b[0m\u001b[1;33m\u001b[0m\u001b[1;33m\u001b[0m\u001b[0m\n\u001b[1;32m--> 606\u001b[1;33m                 \u001b[0mhandle\u001b[0m \u001b[1;33m=\u001b[0m \u001b[0murlopen\u001b[0m\u001b[1;33m(\u001b[0m\u001b[0mcgi\u001b[0m\u001b[1;33m)\u001b[0m\u001b[1;33m\u001b[0m\u001b[1;33m\u001b[0m\u001b[0m\n\u001b[0m\u001b[0;32m    607\u001b[0m         \u001b[1;32mexcept\u001b[0m \u001b[0mHTTPError\u001b[0m \u001b[1;32mas\u001b[0m \u001b[0mexception\u001b[0m\u001b[1;33m:\u001b[0m\u001b[1;33m\u001b[0m\u001b[1;33m\u001b[0m\u001b[0m\n\u001b[0;32m    608\u001b[0m             \u001b[1;31m# Reraise if the final try fails\u001b[0m\u001b[1;33m\u001b[0m\u001b[1;33m\u001b[0m\u001b[1;33m\u001b[0m\u001b[0m\n",
      "\u001b[1;32mc:\\ProgramData\\anaconda3\\envs\\CompBio\\lib\\urllib\\request.py\u001b[0m in \u001b[0;36murlopen\u001b[1;34m(url, data, timeout, cafile, capath, cadefault, context)\u001b[0m\n\u001b[0;32m    220\u001b[0m     \u001b[1;32melse\u001b[0m\u001b[1;33m:\u001b[0m\u001b[1;33m\u001b[0m\u001b[1;33m\u001b[0m\u001b[0m\n\u001b[0;32m    221\u001b[0m         \u001b[0mopener\u001b[0m \u001b[1;33m=\u001b[0m \u001b[0m_opener\u001b[0m\u001b[1;33m\u001b[0m\u001b[1;33m\u001b[0m\u001b[0m\n\u001b[1;32m--> 222\u001b[1;33m     \u001b[1;32mreturn\u001b[0m \u001b[0mopener\u001b[0m\u001b[1;33m.\u001b[0m\u001b[0mopen\u001b[0m\u001b[1;33m(\u001b[0m\u001b[0murl\u001b[0m\u001b[1;33m,\u001b[0m \u001b[0mdata\u001b[0m\u001b[1;33m,\u001b[0m \u001b[0mtimeout\u001b[0m\u001b[1;33m)\u001b[0m\u001b[1;33m\u001b[0m\u001b[1;33m\u001b[0m\u001b[0m\n\u001b[0m\u001b[0;32m    223\u001b[0m \u001b[1;33m\u001b[0m\u001b[0m\n\u001b[0;32m    224\u001b[0m \u001b[1;32mdef\u001b[0m \u001b[0minstall_opener\u001b[0m\u001b[1;33m(\u001b[0m\u001b[0mopener\u001b[0m\u001b[1;33m)\u001b[0m\u001b[1;33m:\u001b[0m\u001b[1;33m\u001b[0m\u001b[1;33m\u001b[0m\u001b[0m\n",
      "\u001b[1;32mc:\\ProgramData\\anaconda3\\envs\\CompBio\\lib\\urllib\\request.py\u001b[0m in \u001b[0;36mopen\u001b[1;34m(self, fullurl, data, timeout)\u001b[0m\n\u001b[0;32m    529\u001b[0m         \u001b[1;32mfor\u001b[0m \u001b[0mprocessor\u001b[0m \u001b[1;32min\u001b[0m \u001b[0mself\u001b[0m\u001b[1;33m.\u001b[0m\u001b[0mprocess_response\u001b[0m\u001b[1;33m.\u001b[0m\u001b[0mget\u001b[0m\u001b[1;33m(\u001b[0m\u001b[0mprotocol\u001b[0m\u001b[1;33m,\u001b[0m \u001b[1;33m[\u001b[0m\u001b[1;33m]\u001b[0m\u001b[1;33m)\u001b[0m\u001b[1;33m:\u001b[0m\u001b[1;33m\u001b[0m\u001b[1;33m\u001b[0m\u001b[0m\n\u001b[0;32m    530\u001b[0m             \u001b[0mmeth\u001b[0m \u001b[1;33m=\u001b[0m \u001b[0mgetattr\u001b[0m\u001b[1;33m(\u001b[0m\u001b[0mprocessor\u001b[0m\u001b[1;33m,\u001b[0m \u001b[0mmeth_name\u001b[0m\u001b[1;33m)\u001b[0m\u001b[1;33m\u001b[0m\u001b[1;33m\u001b[0m\u001b[0m\n\u001b[1;32m--> 531\u001b[1;33m             \u001b[0mresponse\u001b[0m \u001b[1;33m=\u001b[0m \u001b[0mmeth\u001b[0m\u001b[1;33m(\u001b[0m\u001b[0mreq\u001b[0m\u001b[1;33m,\u001b[0m \u001b[0mresponse\u001b[0m\u001b[1;33m)\u001b[0m\u001b[1;33m\u001b[0m\u001b[1;33m\u001b[0m\u001b[0m\n\u001b[0m\u001b[0;32m    532\u001b[0m \u001b[1;33m\u001b[0m\u001b[0m\n\u001b[0;32m    533\u001b[0m         \u001b[1;32mreturn\u001b[0m \u001b[0mresponse\u001b[0m\u001b[1;33m\u001b[0m\u001b[1;33m\u001b[0m\u001b[0m\n",
      "\u001b[1;32mc:\\ProgramData\\anaconda3\\envs\\CompBio\\lib\\urllib\\request.py\u001b[0m in \u001b[0;36mhttp_response\u001b[1;34m(self, request, response)\u001b[0m\n\u001b[0;32m    639\u001b[0m         \u001b[1;32mif\u001b[0m \u001b[1;32mnot\u001b[0m \u001b[1;33m(\u001b[0m\u001b[1;36m200\u001b[0m \u001b[1;33m<=\u001b[0m \u001b[0mcode\u001b[0m \u001b[1;33m<\u001b[0m \u001b[1;36m300\u001b[0m\u001b[1;33m)\u001b[0m\u001b[1;33m:\u001b[0m\u001b[1;33m\u001b[0m\u001b[1;33m\u001b[0m\u001b[0m\n\u001b[0;32m    640\u001b[0m             response = self.parent.error(\n\u001b[1;32m--> 641\u001b[1;33m                 'http', request, response, code, msg, hdrs)\n\u001b[0m\u001b[0;32m    642\u001b[0m \u001b[1;33m\u001b[0m\u001b[0m\n\u001b[0;32m    643\u001b[0m         \u001b[1;32mreturn\u001b[0m \u001b[0mresponse\u001b[0m\u001b[1;33m\u001b[0m\u001b[1;33m\u001b[0m\u001b[0m\n",
      "\u001b[1;32mc:\\ProgramData\\anaconda3\\envs\\CompBio\\lib\\urllib\\request.py\u001b[0m in \u001b[0;36merror\u001b[1;34m(self, proto, *args)\u001b[0m\n\u001b[0;32m    567\u001b[0m         \u001b[1;32mif\u001b[0m \u001b[0mhttp_err\u001b[0m\u001b[1;33m:\u001b[0m\u001b[1;33m\u001b[0m\u001b[1;33m\u001b[0m\u001b[0m\n\u001b[0;32m    568\u001b[0m             \u001b[0margs\u001b[0m \u001b[1;33m=\u001b[0m \u001b[1;33m(\u001b[0m\u001b[0mdict\u001b[0m\u001b[1;33m,\u001b[0m \u001b[1;34m'default'\u001b[0m\u001b[1;33m,\u001b[0m \u001b[1;34m'http_error_default'\u001b[0m\u001b[1;33m)\u001b[0m \u001b[1;33m+\u001b[0m \u001b[0morig_args\u001b[0m\u001b[1;33m\u001b[0m\u001b[1;33m\u001b[0m\u001b[0m\n\u001b[1;32m--> 569\u001b[1;33m             \u001b[1;32mreturn\u001b[0m \u001b[0mself\u001b[0m\u001b[1;33m.\u001b[0m\u001b[0m_call_chain\u001b[0m\u001b[1;33m(\u001b[0m\u001b[1;33m*\u001b[0m\u001b[0margs\u001b[0m\u001b[1;33m)\u001b[0m\u001b[1;33m\u001b[0m\u001b[1;33m\u001b[0m\u001b[0m\n\u001b[0m\u001b[0;32m    570\u001b[0m \u001b[1;33m\u001b[0m\u001b[0m\n\u001b[0;32m    571\u001b[0m \u001b[1;31m# XXX probably also want an abstract factory that knows when it makes\u001b[0m\u001b[1;33m\u001b[0m\u001b[1;33m\u001b[0m\u001b[1;33m\u001b[0m\u001b[0m\n",
      "\u001b[1;32mc:\\ProgramData\\anaconda3\\envs\\CompBio\\lib\\urllib\\request.py\u001b[0m in \u001b[0;36m_call_chain\u001b[1;34m(self, chain, kind, meth_name, *args)\u001b[0m\n\u001b[0;32m    501\u001b[0m         \u001b[1;32mfor\u001b[0m \u001b[0mhandler\u001b[0m \u001b[1;32min\u001b[0m \u001b[0mhandlers\u001b[0m\u001b[1;33m:\u001b[0m\u001b[1;33m\u001b[0m\u001b[1;33m\u001b[0m\u001b[0m\n\u001b[0;32m    502\u001b[0m             \u001b[0mfunc\u001b[0m \u001b[1;33m=\u001b[0m \u001b[0mgetattr\u001b[0m\u001b[1;33m(\u001b[0m\u001b[0mhandler\u001b[0m\u001b[1;33m,\u001b[0m \u001b[0mmeth_name\u001b[0m\u001b[1;33m)\u001b[0m\u001b[1;33m\u001b[0m\u001b[1;33m\u001b[0m\u001b[0m\n\u001b[1;32m--> 503\u001b[1;33m             \u001b[0mresult\u001b[0m \u001b[1;33m=\u001b[0m \u001b[0mfunc\u001b[0m\u001b[1;33m(\u001b[0m\u001b[1;33m*\u001b[0m\u001b[0margs\u001b[0m\u001b[1;33m)\u001b[0m\u001b[1;33m\u001b[0m\u001b[1;33m\u001b[0m\u001b[0m\n\u001b[0m\u001b[0;32m    504\u001b[0m             \u001b[1;32mif\u001b[0m \u001b[0mresult\u001b[0m \u001b[1;32mis\u001b[0m \u001b[1;32mnot\u001b[0m \u001b[1;32mNone\u001b[0m\u001b[1;33m:\u001b[0m\u001b[1;33m\u001b[0m\u001b[1;33m\u001b[0m\u001b[0m\n\u001b[0;32m    505\u001b[0m                 \u001b[1;32mreturn\u001b[0m \u001b[0mresult\u001b[0m\u001b[1;33m\u001b[0m\u001b[1;33m\u001b[0m\u001b[0m\n",
      "\u001b[1;32mc:\\ProgramData\\anaconda3\\envs\\CompBio\\lib\\urllib\\request.py\u001b[0m in \u001b[0;36mhttp_error_default\u001b[1;34m(self, req, fp, code, msg, hdrs)\u001b[0m\n\u001b[0;32m    647\u001b[0m \u001b[1;32mclass\u001b[0m \u001b[0mHTTPDefaultErrorHandler\u001b[0m\u001b[1;33m(\u001b[0m\u001b[0mBaseHandler\u001b[0m\u001b[1;33m)\u001b[0m\u001b[1;33m:\u001b[0m\u001b[1;33m\u001b[0m\u001b[1;33m\u001b[0m\u001b[0m\n\u001b[0;32m    648\u001b[0m     \u001b[1;32mdef\u001b[0m \u001b[0mhttp_error_default\u001b[0m\u001b[1;33m(\u001b[0m\u001b[0mself\u001b[0m\u001b[1;33m,\u001b[0m \u001b[0mreq\u001b[0m\u001b[1;33m,\u001b[0m \u001b[0mfp\u001b[0m\u001b[1;33m,\u001b[0m \u001b[0mcode\u001b[0m\u001b[1;33m,\u001b[0m \u001b[0mmsg\u001b[0m\u001b[1;33m,\u001b[0m \u001b[0mhdrs\u001b[0m\u001b[1;33m)\u001b[0m\u001b[1;33m:\u001b[0m\u001b[1;33m\u001b[0m\u001b[1;33m\u001b[0m\u001b[0m\n\u001b[1;32m--> 649\u001b[1;33m         \u001b[1;32mraise\u001b[0m \u001b[0mHTTPError\u001b[0m\u001b[1;33m(\u001b[0m\u001b[0mreq\u001b[0m\u001b[1;33m.\u001b[0m\u001b[0mfull_url\u001b[0m\u001b[1;33m,\u001b[0m \u001b[0mcode\u001b[0m\u001b[1;33m,\u001b[0m \u001b[0mmsg\u001b[0m\u001b[1;33m,\u001b[0m \u001b[0mhdrs\u001b[0m\u001b[1;33m,\u001b[0m \u001b[0mfp\u001b[0m\u001b[1;33m)\u001b[0m\u001b[1;33m\u001b[0m\u001b[1;33m\u001b[0m\u001b[0m\n\u001b[0m\u001b[0;32m    650\u001b[0m \u001b[1;33m\u001b[0m\u001b[0m\n\u001b[0;32m    651\u001b[0m \u001b[1;32mclass\u001b[0m \u001b[0mHTTPRedirectHandler\u001b[0m\u001b[1;33m(\u001b[0m\u001b[0mBaseHandler\u001b[0m\u001b[1;33m)\u001b[0m\u001b[1;33m:\u001b[0m\u001b[1;33m\u001b[0m\u001b[1;33m\u001b[0m\u001b[0m\n",
      "\u001b[1;31mHTTPError\u001b[0m: HTTP Error 429: Too Many Requests"
     ]
    }
   ],
   "source": [
    "record = Entrez.read(Entrez.esearch(db='nucleotide', term='OCA2 and Homo Sapiens and refSeq', retmax=50, idType='acc')) #type acc = return nya berupa session number\n",
    "\n",
    "ids = record['IdList']\n",
    "\n",
    "for id in ids:\n",
    "    fetch = Entrez.efetch(db='nucleotide', id=id, rettype='fasta', retmode='text')\n",
    "    print(fetch.readline())\n"
   ]
  },
  {
   "cell_type": "code",
   "execution_count": null,
   "metadata": {},
   "outputs": [],
   "source": []
  }
 ],
 "metadata": {
  "kernelspec": {
   "display_name": "CompBio",
   "language": "python",
   "name": "python3"
  },
  "language_info": {
   "codemirror_mode": {
    "name": "ipython",
    "version": 3
   },
   "file_extension": ".py",
   "mimetype": "text/x-python",
   "name": "python",
   "nbconvert_exporter": "python",
   "pygments_lexer": "ipython3",
   "version": "3.7.6"
  }
 },
 "nbformat": 4,
 "nbformat_minor": 2
}
