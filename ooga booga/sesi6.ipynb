{
 "cells": [
  {
   "cell_type": "code",
   "execution_count": 1,
   "metadata": {},
   "outputs": [],
   "source": [
    "from Bio import SeqIO"
   ]
  },
  {
   "cell_type": "code",
   "execution_count": 4,
   "metadata": {},
   "outputs": [
    {
     "name": "stdout",
     "output_type": "stream",
     "text": [
      "ID: AU098419.1\n",
      "Name: AU098419.1\n",
      "Description: AU098419.1 AU098419 Sugano Homo sapiens cDNA library Homo sapiens cDNA clone CAS03528 5' similar to Homo sapien interleukin-1 beta convertase (IL1BCE) mRNA, mRNA sequence\n",
      "Number of features: 0\n",
      "Seq('AGTTTCAGTCACACAAGAAGGGAGGAGAGAAAAGCCATGGCCGACAAGGTCCTG...GGA')\n",
      "AU098419.1\n",
      "AGTTTCAGTCACACAAGAAGGGAGGAGAGAAAAGCCATGGCCGACAAGGTCCTGAAGGAGAAGAGAAAGCTGTTTATCCGTTCCATGGGTGAAGGTACAATAAATGGCTTACTGGATGAATTATTACAGACAAGGGTGCTGAACAAGGAAGAGATGGAGAAAGTAAAACGTGAAAATGCTACAGTTATGGATAAGACCCGAGCTTTGATTGACTCCGTTATTCCGAAAGGGGCACAGGCATGCCAAATTTGCATCACATACATTTGTGAAGAAGACAGTTACCTGGCAGGGACGCTGGGA\n"
     ]
    }
   ],
   "source": [
    "# ada 2 cara pake .parse dan .read\n",
    "# .parse = expect banyak data dalam 1 fasta\n",
    "# .read = expect hanya 1 data dalam 1 fasta\n",
    "\n",
    "for record in SeqIO.parse(\"ooga booga.fasta\", 'fasta'):\n",
    "    print(record)\n",
    "    print(record.id)\n",
    "    print(record.seq)"
   ]
  },
  {
   "cell_type": "code",
   "execution_count": 5,
   "metadata": {},
   "outputs": [
    {
     "name": "stdout",
     "output_type": "stream",
     "text": [
      "ID: AU098419.1\n",
      "Name: AU098419.1\n",
      "Description: AU098419.1 AU098419 Sugano Homo sapiens cDNA library Homo sapiens cDNA clone CAS03528 5' similar to Homo sapien interleukin-1 beta convertase (IL1BCE) mRNA, mRNA sequence\n",
      "Number of features: 0\n",
      "Seq('AGTTTCAGTCACACAAGAAGGGAGGAGAGAAAAGCCATGGCCGACAAGGTCCTG...GGA')\n"
     ]
    }
   ],
   "source": [
    "record = SeqIO.read('ooga booga.fasta', 'fasta')\n",
    "print(record)"
   ]
  },
  {
   "cell_type": "code",
   "execution_count": 7,
   "metadata": {},
   "outputs": [
    {
     "name": "stdout",
     "output_type": "stream",
     "text": [
      "ID: AU098419.1\n",
      "Name: AU098419\n",
      "Description: AU098419 Sugano Homo sapiens cDNA library Homo sapiens cDNA clone CAS03528 5' similar to Homo sapien interleukin-1 beta convertase (IL1BCE) mRNA, mRNA sequence\n",
      "Database cross-references: BioSample:SAMN00163320\n",
      "Number of features: 1\n",
      "/molecule_type=mRNA\n",
      "/topology=linear\n",
      "/data_file_division=EST\n",
      "/date=29-JAN-2011\n",
      "/accessions=['AU098419']\n",
      "/sequence_version=1\n",
      "/keywords=['EST']\n",
      "/source=Homo sapiens (human)\n",
      "/organism=Homo sapiens\n",
      "/taxonomy=['Eukaryota', 'Metazoa', 'Chordata', 'Craniata', 'Vertebrata', 'Euteleostomi', 'Mammalia', 'Eutheria', 'Euarchontoglires', 'Primates', 'Haplorrhini', 'Catarrhini', 'Hominidae', 'Homo']\n",
      "/references=[Reference(title='Identification and characterization of the potential promoter regions of 1031 kinds of human genes', ...)]\n",
      "/comment=Contact: Yutaka Suzuki\n",
      "Department of Virology\n",
      "Institute of Medical Science, University of Tokyo\n",
      "4-6-1, Shirokanedai, Minatoku, Tokyo 108-8639, Japan\n",
      "Suzuki,Y., Yoshitomo-Nakagawa,K., Maruyama,K., Suyama,A. and\n",
      "Sugano,S. Construction and characterization of a full\n",
      "length-enriched and a 5'-end-enriched cDNA library. Gene 200 (1-2),\n",
      "149-156 (1997).\n",
      "Seq('AGTTTCAGTCACACAAGAAGGGAGGAGAGAAAAGCCATGGCCGACAAGGTCCTG...GGA')\n"
     ]
    },
    {
     "name": "stderr",
     "output_type": "stream",
     "text": [
      "c:\\ProgramData\\anaconda3\\envs\\CompBio\\lib\\site-packages\\Bio\\GenBank\\Scanner.py:1220: BiopythonParserWarning: Premature end of file in sequence data\n",
      "  \"Premature end of file in sequence data\", BiopythonParserWarning\n"
     ]
    }
   ],
   "source": [
    "record = SeqIO.read('ooga booga.gb', 'genbank')\n",
    "print(record)"
   ]
  },
  {
   "cell_type": "code",
   "execution_count": 8,
   "metadata": {},
   "outputs": [],
   "source": [
    "record_dict = SeqIO.to_dict(SeqIO.parse('ooga booga.fasta', 'fasta'))\n",
    "\n",
    "with open('homo sapien.fasta', 'w') as handle:\n",
    "    SeqIO.write(record_dict.values(), handle, 'fasta')"
   ]
  },
  {
   "cell_type": "code",
   "execution_count": 10,
   "metadata": {},
   "outputs": [
    {
     "data": {
      "text/plain": [
       "Seq('SFSHTRREERKAMADKVLKEKRKLFIRSMGEGTINGLLDELLQTRVLNKEEMEK...TLG')"
      ]
     },
     "execution_count": 10,
     "metadata": {},
     "output_type": "execute_result"
    }
   ],
   "source": [
    "record = SeqIO.read('ooga booga.fasta', 'fasta')\n",
    "record.seq.transcribe().translate()"
   ]
  }
 ],
 "metadata": {
  "kernelspec": {
   "display_name": "CompBio",
   "language": "python",
   "name": "python3"
  },
  "language_info": {
   "codemirror_mode": {
    "name": "ipython",
    "version": 3
   },
   "file_extension": ".py",
   "mimetype": "text/x-python",
   "name": "python",
   "nbconvert_exporter": "python",
   "pygments_lexer": "ipython3",
   "version": "3.7.6"
  }
 },
 "nbformat": 4,
 "nbformat_minor": 2
}
