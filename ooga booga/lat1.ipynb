{
 "cells": [
  {
   "cell_type": "code",
   "execution_count": 6,
   "metadata": {},
   "outputs": [],
   "source": [
    "from Bio import SeqIO\n",
    "from Bio.Seq import Seq\n",
    "from Bio.SeqUtils import nt_search\n",
    "from collections import Counter\n",
    "from matplotlib import pyplot as plt\n",
    "from Bio.SeqUtils import GC"
   ]
  },
  {
   "cell_type": "code",
   "execution_count": 3,
   "metadata": {},
   "outputs": [
    {
     "name": "stdout",
     "output_type": "stream",
     "text": [
      "seq:  AGTTTCAGTCACACAAGAAGGGAGGAGAGAAAAGCCATGGCCGACAAGGTCCTGAAGGAGAAGAGAAAGCTGTTTATCCGTTCCATGGGTGAAGGTACAATAAATGGCTTACTGGATGAATTATTACAGACAAGGGTGCTGAACAAGGAAGAGATGGAGAAAGTAAAACGTGAAAATGCTACAGTTATGGATAAGACCCGAGCTTTGATTGACTCCGTTATTCCGAAAGGGGCACAGGCATGCCAAATTTGCATCACATACATTTGTGAAGAAGACAGTTACCTGGCAGGGACGCTGGGA\n",
      "seq length:  300\n"
     ]
    }
   ],
   "source": [
    "record = SeqIO.read('a.fasta', 'fasta')\n",
    "\n",
    "print(\"seq: \", record.seq)\n",
    "print(\"seq length: \", len(record.seq))"
   ]
  },
  {
   "cell_type": "code",
   "execution_count": 5,
   "metadata": {},
   "outputs": [
    {
     "data": {
      "text/plain": [
       "<BarContainer object of 4 artists>"
      ]
     },
     "execution_count": 5,
     "metadata": {},
     "output_type": "execute_result"
    },
    {
     "data": {
      "image/png": "[encoded data removed]",
      "text/plain": [
       "<Figure size 640x480 with 1 Axes>"
      ]
     },
     "metadata": {},
     "output_type": "display_data"
    }
   ],
   "source": [
    "plt.bar(Counter(record.seq).keys(), Counter(record.seq).values())"
   ]
  },
  {
   "cell_type": "code",
   "execution_count": 8,
   "metadata": {},
   "outputs": [
    {
     "name": "stdout",
     "output_type": "stream",
     "text": [
      "percentage GC: 45.0\n",
      "percentage GC: 55.0\n"
     ]
    }
   ],
   "source": [
    "print(\"percentage GC:\", GC(record.seq))\n",
    "print(\"percentage AT:\", 100 - GC(record.seq))"
   ]
  },
  {
   "cell_type": "code",
   "execution_count": 9,
   "metadata": {},
   "outputs": [
    {
     "name": "stdout",
     "output_type": "stream",
     "text": [
      "molecular weight: 93579.85469999988\n"
     ]
    }
   ],
   "source": [
    "from Bio.SeqUtils import molecular_weight as mw\n",
    "\n",
    "print(\"molecular weight:\", mw(record.seq))"
   ]
  },
  {
   "cell_type": "code",
   "execution_count": 12,
   "metadata": {},
   "outputs": [
    {
     "name": "stdout",
     "output_type": "stream",
     "text": [
      "transcribe: AGUUUCAGUCACACAAGAAGGGAGGAGAGAAAAGCCAUGGCCGACAAGGUCCUGAAGGAGAAGAGAAAGCUGUUUAUCCGUUCCAUGGGUGAAGGUACAAUAAAUGGCUUACUGGAUGAAUUAUUACAGACAAGGGUGCUGAACAAGGAAGAGAUGGAGAAAGUAAAACGUGAAAAUGCUACAGUUAUGGAUAAGACCCGAGCUUUGAUUGACUCCGUUAUUCCGAAAGGGGCACAGGCAUGCCAAAUUUGCAUCACAUACAUUUGUGAAGAAGACAGUUACCUGGCAGGGACGCUGGGA\n",
      "translate: SFSHTRREERKAMADKVLKEKRKLFIRSMGEGTINGLLDELLQTRVLNKEEMEKVKRENATVMDKTRALIDSVIPKGAQACQICITYICEEDSYLAGTLG\n"
     ]
    }
   ],
   "source": [
    "print(\"transcribe:\", record.seq.transcribe())\n",
    "print(\"translate:\", record.seq.transcribe().translate())"
   ]
  },
  {
   "cell_type": "code",
   "execution_count": 18,
   "metadata": {},
   "outputs": [
    {
     "name": "stdout",
     "output_type": "stream",
     "text": [
      "AGTT-T-CAGTCAC-ACAAGA----AG\n",
      "|    | | || || ||  ||    ||\n",
      "A---CTGC-GT-ACGAC--GATCGTAG\n",
      "  Score=13\n",
      "\n"
     ]
    }
   ],
   "source": [
    "from Bio import pairwise2\n",
    "from Bio.pairwise2 import format_alignment\n",
    "\n",
    "seqA = record.seq[:20]\n",
    "seqB = \"ACTGCGTACGACGATCGTAG\"\n",
    "\n",
    "local_align = pairwise2.align.localxx(seqA, seqB)\n",
    "print(format_alignment(*local_align[0]))"
   ]
  },
  {
   "cell_type": "code",
   "execution_count": 20,
   "metadata": {},
   "outputs": [
    {
     "data": {
      "text/plain": [
       "280"
      ]
     },
     "execution_count": 20,
     "metadata": {},
     "output_type": "execute_result"
    }
   ],
   "source": [
    "from Levenshtein import distance\n",
    "\n",
    "seqC = \"GATCGATCGATGATACGATA\"\n",
    "distance(record.seq, seqC)"
   ]
  }
 ],
 "metadata": {
  "kernelspec": {
   "display_name": "CompBio",
   "language": "python",
   "name": "python3"
  },
  "language_info": {
   "codemirror_mode": {
    "name": "ipython",
    "version": 3
   },
   "file_extension": ".py",
   "mimetype": "text/x-python",
   "name": "python",
   "nbconvert_exporter": "python",
   "pygments_lexer": "ipython3",
   "version": "3.7.6"
  }
 },
 "nbformat": 4,
 "nbformat_minor": 2
}
